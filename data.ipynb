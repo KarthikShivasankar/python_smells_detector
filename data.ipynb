{
 "cells": [
  {
   "cell_type": "code",
   "execution_count": 1,
   "metadata": {},
   "outputs": [
    {
     "ename": "ImportError",
     "evalue": "cannot import name 'CodeAnalyzer' from 'code_quality_analyzer' (c:\\users\\karth\\desktop\\code_quality_analyser\\code_quality_analyzer\\src\\code_quality_analyzer\\__init__.py)",
     "output_type": "error",
     "traceback": [
      "\u001b[1;31m---------------------------------------------------------------------------\u001b[0m",
      "\u001b[1;31mImportError\u001b[0m                               Traceback (most recent call last)",
      "Cell \u001b[1;32mIn[1], line 1\u001b[0m\n\u001b[1;32m----> 1\u001b[0m \u001b[38;5;28;01mfrom\u001b[39;00m \u001b[38;5;21;01mcode_quality_analyzer\u001b[39;00m \u001b[38;5;28;01mimport\u001b[39;00m CodeAnalyzer\n\u001b[0;32m      3\u001b[0m analyzer \u001b[38;5;241m=\u001b[39m CodeAnalyzer(\u001b[38;5;124m'\u001b[39m\u001b[38;5;124mC:/Users/karth/Desktop/Code_quality_analyser/code_quality_analyzer/test_project\u001b[39m\u001b[38;5;124m'\u001b[39m, config_file\u001b[38;5;241m=\u001b[39m\u001b[38;5;124m'\u001b[39m\u001b[38;5;124mcode_quality_config.yaml\u001b[39m\u001b[38;5;124m'\u001b[39m)\n\u001b[0;32m      4\u001b[0m results \u001b[38;5;241m=\u001b[39m analyzer\u001b[38;5;241m.\u001b[39manalyze()\n",
      "\u001b[1;31mImportError\u001b[0m: cannot import name 'CodeAnalyzer' from 'code_quality_analyzer' (c:\\users\\karth\\desktop\\code_quality_analyser\\code_quality_analyzer\\src\\code_quality_analyzer\\__init__.py)"
     ]
    }
   ],
   "source": [
    "from code_quality_analyzer import CodeAnalyzer\n",
    "\n",
    "analyzer = CodeAnalyzer('C:/Users/karth/Desktop/Code_quality_analyser/code_quality_analyzer/test_project', config_file='code_quality_config.yaml')\n",
    "results = analyzer.analyze()\n",
    "print(results)"
   ]
  },
  {
   "cell_type": "code",
   "execution_count": null,
   "metadata": {},
   "outputs": [],
   "source": []
  }
 ],
 "metadata": {
  "kernelspec": {
   "display_name": "llm",
   "language": "python",
   "name": "python3"
  },
  "language_info": {
   "codemirror_mode": {
    "name": "ipython",
    "version": 3
   },
   "file_extension": ".py",
   "mimetype": "text/x-python",
   "name": "python",
   "nbconvert_exporter": "python",
   "pygments_lexer": "ipython3",
   "version": "3.11.5"
  }
 },
 "nbformat": 4,
 "nbformat_minor": 2
}
